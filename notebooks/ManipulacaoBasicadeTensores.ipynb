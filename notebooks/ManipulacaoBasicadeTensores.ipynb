{
 "cells": [
  {
   "cell_type": "markdown",
   "metadata": {},
   "source": [
    "### Manipulação Básica de Tensores"
   ]
  },
  {
   "cell_type": "code",
   "execution_count": 7,
   "metadata": {},
   "outputs": [
    {
     "name": "stdout",
     "output_type": "stream",
     "text": [
      "Soma:  tensor([5., 7., 9.])\n",
      "Produto:  tensor([ 4., 10., 18.])\n"
     ]
    }
   ],
   "source": [
    "# Soma e Produto entre tensores\n",
    "import torch\n",
    "\n",
    "# criando tensores\n",
    "x = torch.tensor([1.0, 2.0, 3.0]) # Define um tensor 1D com três elementos\n",
    "y = torch.tensor([4.0, 5.0, 6.0]) # outro tensor 1D\n",
    "\n",
    "# operacao simples\n",
    "soma = x + y\n",
    "produto = x * y\n",
    "\n",
    "print(\"Soma: \", soma)\n",
    "print(\"Produto: \", produto)"
   ]
  },
  {
   "cell_type": "code",
   "execution_count": 8,
   "metadata": {},
   "outputs": [
    {
     "name": "stdout",
     "output_type": "stream",
     "text": [
      "Soma total:  tensor(21.)\n",
      "Média das colunas:  tensor([2.5000, 3.5000, 4.5000])\n",
      "Soma das linhas:  tensor([ 6., 15.])\n"
     ]
    }
   ],
   "source": [
    "# Operações de Redução e Dimensão\n",
    "import torch\n",
    "\n",
    "# criando um tensor 2D(matriz)\n",
    "x = torch.tensor([[1.0, 2.0, 3.0], [4.0, 5.0, 6.0]])\n",
    "\n",
    "# Soma total de todos os elementos\n",
    "soma_total = torch.sum(x)\n",
    "print(\"Soma total: \", soma_total)\n",
    "\n",
    "# Média dos elementos em cada coluna\n",
    "media_colunas = torch.mean(x, dim=0)\n",
    "print(\"Média das colunas: \", media_colunas)\n",
    "\n",
    "# Soma dos elementos em cada linha\n",
    "soma_linhas = torch.sum(x, dim=1)\n",
    "print(\"Soma das linhas: \", soma_linhas)"
   ]
  },
  {
   "cell_type": "code",
   "execution_count": 9,
   "metadata": {},
   "outputs": [
    {
     "name": "stdout",
     "output_type": "stream",
     "text": [
      "Tensor redimensionado para 2x3:\n",
      "  tensor([[1, 2, 3],\n",
      "        [4, 5, 6]])\n",
      "Tensor como float:  tensor([1., 2., 3., 4., 5., 6.])\n",
      "Tensor com uma nova dimensao:\n",
      "  tensor([[1, 2, 3, 4, 5, 6]])\n"
     ]
    }
   ],
   "source": [
    "# Manipulação e Transformação de Tensores\n",
    "import torch\n",
    "\n",
    "# criando um tensor 1D\n",
    "x = torch.tensor([1, 2, 3, 4, 5, 6])\n",
    "\n",
    "# Redimensionando o tensor (transformando 2x3)\n",
    "x_reshape = x.view(2, 3)\n",
    "print(\"Tensor redimensionado para 2x3:\\n \", x_reshape)\n",
    "\n",
    "# Convertendo um tensor em um tensor float\n",
    "x_float = x.float()\n",
    "print(\"Tensor como float: \", x_float)\n",
    "\n",
    "# Expandindo o tensor para uma nova dimensao\n",
    "x_unsqueeze = x.unsqueeze(0)  # Adiciona uma nova dimensão no começo\n",
    "print(\"Tensor com uma nova dimensao:\\n \", x_unsqueeze)"
   ]
  },
  {
   "cell_type": "code",
   "execution_count": 10,
   "metadata": {},
   "outputs": [
    {
     "name": "stdout",
     "output_type": "stream",
     "text": [
      "Transposição de a:\n",
      " tensor([[1, 3],\n",
      "        [2, 4]])\n",
      "Produto matricial de a e b:\n",
      " tensor([[19, 22],\n",
      "        [43, 50]])\n"
     ]
    }
   ],
   "source": [
    "# Operações de Transposição e Produto Matricial\n",
    "import torch\n",
    "\n",
    "# criando tensores 2D (matrizes)\n",
    "a = torch.tensor([[1, 2], [3, 4]])\n",
    "b = torch.tensor([[5, 6], [7, 8]])\n",
    "\n",
    "# Transposicao de uma matriz\n",
    "a_transposta = a.t()\n",
    "print(\"Transposição de a:\\n\", a_transposta)\n",
    "\n",
    "# Produto matricial (multiplicação de matriz)\n",
    "produto_matriz = torch.matmul(a, b)\n",
    "print(\"Produto matricial de a e b:\\n\", produto_matriz)"
   ]
  },
  {
   "cell_type": "code",
   "execution_count": 11,
   "metadata": {},
   "outputs": [
    {
     "name": "stdout",
     "output_type": "stream",
     "text": [
      "Elementos maiores que 2: tensor([False, False,  True,  True,  True])\n",
      "Elementos filtrados: tensor([3., 4., 5.])\n",
      "Primeiro elemento: tensor(1.)\n",
      "Últimos dois elementos: tensor([4., 5.])\n"
     ]
    }
   ],
   "source": [
    "# Operações de Comparação e Indexação com Tensores\n",
    "import torch\n",
    "\n",
    "# criando um tensor\n",
    "x = torch.tensor([1.0, 2.0, 3.0, 4.0, 5.0])\n",
    "\n",
    "# comparacao elemento a elemento\n",
    "maior_que_dois = x > 2\n",
    "print(\"Elementos maiores que 2:\", maior_que_dois)\n",
    "\n",
    "# Extraindo os elementos que atendem a uma condição\n",
    "filtro = x[x > 2]\n",
    "print(\"Elementos filtrados:\", filtro)\n",
    "\n",
    "# Indexação por posição\n",
    "print(\"Primeiro elemento:\", x[0])\n",
    "print(\"Últimos dois elementos:\", x[-2:])"
   ]
  }
 ],
 "metadata": {
  "kernelspec": {
   "display_name": "yolo_env",
   "language": "python",
   "name": "python3"
  },
  "language_info": {
   "codemirror_mode": {
    "name": "ipython",
    "version": 3
   },
   "file_extension": ".py",
   "mimetype": "text/x-python",
   "name": "python",
   "nbconvert_exporter": "python",
   "pygments_lexer": "ipython3",
   "version": "3.8.20"
  }
 },
 "nbformat": 4,
 "nbformat_minor": 2
}
